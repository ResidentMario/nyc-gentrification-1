{
 "cells": [
  {
   "cell_type": "markdown",
   "metadata": {},
   "source": [
    "Where the yuppies at? Measuring gentrification using chain stores."
   ]
  },
  {
   "cell_type": "code",
   "execution_count": 1,
   "metadata": {
    "collapsed": false
   },
   "outputs": [],
   "source": [
    "from yelp.client import Client\n",
    "from yelp.oauth1_authenticator import Oauth1Authenticator\n",
    "from yelp.errors import BusinessUnavailable\n",
    "import os\n",
    "import json\n",
    "import pandas as pd\n",
    "import folium\n",
    "import geojson\n",
    "import random\n",
    "import requests\n",
    "import numpy as np\n",
    "from geopy.distance import vincenty"
   ]
  },
  {
   "cell_type": "code",
   "execution_count": 2,
   "metadata": {
    "collapsed": false
   },
   "outputs": [
    {
     "name": "stdout",
     "output_type": "stream",
     "text": [
      " Volume in drive C is SSD_80GB\n",
      " Volume Serial Number is 9279-00B2\n",
      "\n",
      " Directory of C:\\Users\\Alex\\Desktop\\nyc-gentrification\\auth\n",
      "\n",
      "01/14/2017  03:37 PM    <DIR>          .\n",
      "01/14/2017  03:37 PM    <DIR>          ..\n",
      "01/14/2017  03:37 PM               207 yelp.json\n",
      "               1 File(s)            207 bytes\n",
      "               2 Dir(s)   2,089,754,624 bytes free\n"
     ]
    }
   ],
   "source": [
    "%ls \"../auth\""
   ]
  },
  {
   "cell_type": "code",
   "execution_count": 3,
   "metadata": {
    "collapsed": true
   },
   "outputs": [],
   "source": [
    "# This code originally from https://github.com/ResidentMario/chain-incidence/blob/master/chain-incidence.ipynb\n",
    "\n",
    "def import_credentials(filename='../auth/yelp.json'):\n",
    "    \"\"\"\n",
    "    Finds the credentials file describing the token that's needed to access Yelp services.\n",
    "\n",
    "    :param filename -- The filename at which Yelp service credentials are stored. Defaults to\n",
    "    `yelp_credentials.json`.\n",
    "    \"\"\"\n",
    "    try:\n",
    "        with open(filename) as f:\n",
    "            return json.load(f)\n",
    "    except IOError as e:\n",
    "        raise e('This API requires Yelp credentials to work. Did you forget to define them?')\n",
    "\n",
    "def fetch_businesses(name, area='New York', manual_override=0):\n",
    "    area = area.lower().replace(' ', '-')\n",
    "    name = name.lower().replace(' ', '-')\n",
    "    \"\"\"\n",
    "    Fetches all yelp.obj.business_response.BusinessResponse objects for incidences of the given chain in Manhattan.\n",
    "    Constructs Yelp business ids for incidences of the chain in the area, then queries Yelp to check if they\n",
    "    exist.\n",
    "    IDs are constructed name-location-number, so we just have to check numbers in ascending order until it breaks.\n",
    "    e.g. http://www.yelp.com/biz/gregorys-coffee-new-york-18 is good.\n",
    "         http://www.yelp.com/biz/gregorys-coffee-new-york-200 is not.\n",
    "    Then we do reverse GIS searches using the business ID through the Yelp API and extract coordinates from the results.\n",
    "    Some technical notes:\n",
    "    1.  The first incidence of any store in the area is reported without any numeral.\n",
    "        e.g. \"dunkin-donuts-new-york\", not \"dunkin-donuts-new-york-1\".\n",
    "        Numbers pick up from there: the next shitty hole in the wall will be \"dunkin-donuts-new-york-2\".\n",
    "    2.  Yelp IDs are unique and are not reassigned when a location is closed.\n",
    "        Thus we need to check for and exclude closed locations when munging the data.\n",
    "    3.  Places with a single instance in Manhattan sometimes have a \"name-place-2\" that redirects to their only location.\n",
    "        At least this seems to be the case with Bibble & Sip...\n",
    "        This is checked and corrected for further down the line, by the fetch_businesses() method.\n",
    "    4.  Sometimes IDs are given to locations that don't actually really exist.\n",
    "        e.g. the best-buy-3 id points to a non-existant storefront.\n",
    "        But best-buy-4, best-buy-5, and so on actually exist!\n",
    "        Yelp acknowledges this fact, but still returns a BusinessUnavaialable error when queries.\n",
    "        This method sends a web request and checks the response and terminates on a 404, which has proven to be a reliable\n",
    "        way of circumnavigating this issue.\n",
    "    5.  In case the above doesn't work...\n",
    "        The manual_override parameter forces the fetcher to keep moving past this error.\n",
    "        For debugging purposes, this method prints a URL for the purposes of manually checking breakpoints.\n",
    "        That way you can incrementally run fetch() and then comb over trouble spots you find by moving up manual_override.\n",
    "        If you hit that URL and you get either a valid ID or an invalid but existing ID, you need to bump up manual_override\n",
    "        to correct it and rerun the fetch.\n",
    "        If you hit that URL and you get a 404 page then you're done!\n",
    "        e.x. In the Best Buy case both best-buy-3 and best-buy-10 are phantoms.\n",
    "        But once we set manual_override=10 we're good, and get all of the actual storefronts.\n",
    "    \"\"\"\n",
    "    i = 2\n",
    "    # Run the first one through by hand.\n",
    "    try:\n",
    "        responses = [client.get_business(\"{0}-{1}\".format(name, area))]\n",
    "    # This can happen, and did, in the Dunkin' Donuts case.\n",
    "    except BusinessUnavailable:\n",
    "        responses = []\n",
    "        pass\n",
    "    # The rest are handled by a loop.\n",
    "    while True:\n",
    "        bus_id = \"{0}-{1}-{2}\".format(name, area, i)\n",
    "        try:\n",
    "            response = client.get_business(bus_id)\n",
    "        except BusinessUnavailable:\n",
    "            # We manually check trouble spots.\n",
    "            # But see the TODO.\n",
    "            if requests.get('http://www.yelp.com/biz/' + bus_id).status_code != requests.codes.ok:\n",
    "                break\n",
    "            else:\n",
    "                # Increment the counter but don't include the troubled ID.\n",
    "                i += 1\n",
    "                continue\n",
    "        responses += [response]\n",
    "        i += 1\n",
    "    print(\"Ended `fetch_businesses()` on:\", \"http://www.yelp.com/biz/\" + bus_id)\n",
    "    return responses        \n",
    "\n",
    "\n",
    "def frame(responses):\n",
    "    \"\"\"\n",
    "    Given a list of yelp.obj.business_response.BusinessResponse objects like the one returns by fetch_businesses(),\n",
    "    builds a coordinate-logging DataFrame out of them.\n",
    "    \"\"\"\n",
    "    latitudes = [response.business.location.coordinate.latitude for response in responses]\n",
    "    longitudes = [response.business.location.coordinate.longitude for response in responses]\n",
    "    df = pd.DataFrame({'latitude': latitudes, 'longitude': longitudes})\n",
    "    df.index.name=responses[0].business.name\n",
    "    return df\n",
    "\n",
    "\n",
    "def map_coordinates(df):\n",
    "    \"\"\"\n",
    "    Returns a folium map of all of the coordinates stored in a coordinate DataFrame, like the one returned by frame().\n",
    "    \"\"\"\n",
    "    ret = folium.Map(location=[40.753889, -73.983611], zoom_start=11)\n",
    "    for row in df.iterrows():\n",
    "        ret.simple_marker([row[1]['latitude'], row[1]['longitude']])\n",
    "    return ret\n",
    "\n",
    "\n",
    "def load_geojson(filename=\"manhattan.geojson\"):\n",
    "    \"\"\"\n",
    "    Returns a geojson object for the given file.\n",
    "    \n",
    "    TODO: Add typing logic to distinguish between \"Feature\" and \"FeatureCollection\" objects.\n",
    "    Parsing these is not exactly equivalent. The latter consists of a list of features.\n",
    "    \"\"\"\n",
    "    with open(filename) as f:\n",
    "        dat = f.read()\n",
    "        obj = geojson.loads(dat)\n",
    "    return obj\n",
    "\n",
    "\n",
    "def load_coordinates(name):\n",
    "    \"\"\"\n",
    "    Loads Manhattan.\n",
    "    What else?\n",
    "    Are you surprised?\n",
    "    \"\"\"\n",
    "    # Encode according to our storage scheme.\n",
    "    filename = name.lower().replace(' ', '_') + '.geojson'\n",
    "    obj = load_geojson(filename)\n",
    "    if obj['type'] == 'FeatureCollection':\n",
    "        ret = []\n",
    "        for feature in obj['features']:\n",
    "            ret += list(geojson.utils.coords(feature))\n",
    "        # return ret\n",
    "    elif obj['type'] == 'Feature':\n",
    "        ret = list(geojson.utils.coords(obj))\n",
    "    # GeoJSON stores coordinates [Longitude, Latitude] -- the \"modern\" format.\n",
    "    # For historical reasons, coordinates are usually represented in the format [Latitude, Longitude].\n",
    "    # And this is indeed the format that the rest of the libraries used for this project expect.\n",
    "    # So we need to swap the two: [Longitude, Latitude] -> [Latitude, Longitude]\n",
    "    ret = [(coord[1], coord[0]) for coord in ret]\n",
    "    return ret\n",
    "\n",
    "\n",
    "# Borrowed from: http://www.ariel.com.au/a/python-point-int-poly.html\n",
    "def point_inside_polygon(x, y, poly):\n",
    "    \"\"\"\n",
    "    Checks if a point is inside a polygon.\n",
    "    Used to validate points as being inside of Manahttan.\n",
    "    Borrowed from: http://www.ariel.com.au/a/python-point-int-poly.html\n",
    "    \n",
    "    The shapely library provides features for this and other things besides, but is too much to deal with at the moment.\n",
    "    \"\"\"\n",
    "\n",
    "    n = len(poly)\n",
    "    inside = False\n",
    "\n",
    "    p1x,p1y = poly[0]\n",
    "    for i in range(n+1):\n",
    "        p2x,p2y = poly[i % n]\n",
    "        if y > min(p1y,p2y):\n",
    "            if y <= max(p1y,p2y):\n",
    "                if x <= max(p1x,p2x):\n",
    "                    if p1y != p2y:\n",
    "                        xints = (y-p1y)*(p2x-p1x)/(p2y-p1y)+p1x\n",
    "                    if p1x == p2x or x <= xints:\n",
    "                        inside = not inside\n",
    "        p1x,p1y = p2x,p2y\n",
    "\n",
    "    return inside\n",
    "\n",
    "\n",
    "def generate_sample_points(coordinate_list, n=1000):\n",
    "    \"\"\"\n",
    "    Generates n uniformly distributed sample points within the given coordinate list.\n",
    "    \n",
    "    When the geometry is sufficiently complex and the list of points large this query can take a while to process.\n",
    "    \"\"\"\n",
    "    lats, longs = list(map(lambda coords: coords[0], coordinate_list)), list(map(lambda coords: coords[1], coordinate_list))\n",
    "    max_lat = max(lats)\n",
    "    min_lat = min(lats)\n",
    "    max_long = max(longs)\n",
    "    min_long = min(longs)\n",
    "    ret = []\n",
    "    while True:\n",
    "        p_lat = random.uniform(min_lat, max_lat)\n",
    "        p_long = random.uniform(min_long, max_long)\n",
    "        if point_inside_polygon(p_lat, p_long, coordinate_list):\n",
    "            ret.append((p_lat, p_long))\n",
    "            if len(ret) > n:\n",
    "                break\n",
    "        else:\n",
    "            continue\n",
    "    return ret\n",
    "\n",
    "\n",
    "def sample_points(search_location, n=10000):\n",
    "    \"\"\"\n",
    "    Given the name of the location being search, returns n uniformally distributed points within that location.\n",
    "    \n",
    "    Wraps the above.\n",
    "    \"\"\"\n",
    "    return generate_sample_points(load_coordinates(search_location), n)\n",
    "\n",
    "\n",
    "def get_minimum_distance(coordinate, coordinate_list):\n",
    "    \"\"\"\n",
    "    Naively calculates the minimum distance in the point cloud.\n",
    "    \"\"\"\n",
    "    best_coord = (0, 0)\n",
    "    best_distance = 1000\n",
    "    for candidate_coord in coordinate_list:\n",
    "        dist = vincenty(coordinate, candidate_coord).miles\n",
    "        if dist < best_distance:\n",
    "            best_coord = candidate_coord\n",
    "            best_distance = dist\n",
    "    return best_distance\n",
    "\n",
    "\n",
    "def average_distance(chain_name, search_location, point_cloud):\n",
    "    \"\"\"\n",
    "    This is the main function of this notebook!\n",
    "    Takes the name of the chain in question and the point cloud associated with the location\n",
    "    for which we are computing average distance.\n",
    "    Returns the average distance to that chain within that location.\n",
    "    We ask for a point cloud and not the name of the location because it's more efficient to precompute an extremely large,\n",
    "    essentially totally random point cloud, and then check against that, instead of recomputing it every round.\n",
    "    Output is in feet!\n",
    "    \"\"\"\n",
    "    # First load the coordinates corresponding to the search location..\n",
    "    location_coords = load_coordinates(search_location)\n",
    "    # Now generate a list of the chains' locations.\n",
    "    chain_df = frame(fetch_businesses(chain_name))\n",
    "    chain_coords = list(zip(chain_df['latitude'], chain_df['longitude']))\n",
    "    # Finally, get and average the minimum distances between the points in the point cloud and the chain locations.\n",
    "    distances = [get_minimum_distance(point, chain_coords) for point in point_cloud]\n",
    "    avg = sum(distances)/len(distances)\n",
    "    avg_in_feet = int(5280*avg)\n",
    "    return avg_in_feet"
   ]
  },
  {
   "cell_type": "code",
   "execution_count": 4,
   "metadata": {
    "collapsed": false
   },
   "outputs": [],
   "source": [
    "credentials = import_credentials()\n",
    "\n",
    "auth = Oauth1Authenticator(\n",
    "    consumer_key=credentials['consumer_key'],\n",
    "    consumer_secret=credentials['consumer_secret'],\n",
    "    token=credentials['token'],\n",
    "    token_secret=credentials['token_secret']\n",
    ")\n",
    "\n",
    "client = Client(auth)"
   ]
  },
  {
   "cell_type": "code",
   "execution_count": 5,
   "metadata": {
    "collapsed": false
   },
   "outputs": [
    {
     "name": "stdout",
     "output_type": "stream",
     "text": [
      "Ended `fetch_businesses()` on: http://www.yelp.com/biz/gregorys-coffee-new-york-24\n"
     ]
    }
   ],
   "source": [
    "gregorys = fetch_businesses('Gregorys Coffee')"
   ]
  },
  {
   "cell_type": "code",
   "execution_count": 6,
   "metadata": {
    "collapsed": false
   },
   "outputs": [
    {
     "name": "stderr",
     "output_type": "stream",
     "text": [
      "C:\\Users\\Alex\\Anaconda3\\envs\\nyc-gentrification\\lib\\site-packages\\ipykernel\\__main__.py:98: FutureWarning: simple_marker is deprecated. Use add_children(Marker) instead\n"
     ]
    },
    {
     "data": {
      "text/html": [
       "<div style=\"width:100%;\"><div style=\"position:relative;width:100%;height:0;padding-bottom:60%;\"><iframe src=\"data:text/html;base64,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\" style=\"position:absolute;width:100%;height:100%;left:0;top:0;\"></iframe></div></div>"
      ],
      "text/plain": [
       "<folium.folium.Map at 0x804f470>"
      ]
     },
     "execution_count": 6,
     "metadata": {},
     "output_type": "execute_result"
    }
   ],
   "source": [
    "map_coordinates(frame(gregorys))"
   ]
  },
  {
   "cell_type": "code",
   "execution_count": 7,
   "metadata": {
    "collapsed": false
   },
   "outputs": [],
   "source": [
    "# redmango = fetch_businesses('Red Mango')"
   ]
  },
  {
   "cell_type": "code",
   "execution_count": 8,
   "metadata": {
    "collapsed": false
   },
   "outputs": [],
   "source": [
    "# map_coordinates(frame(redmango))"
   ]
  },
  {
   "cell_type": "code",
   "execution_count": 9,
   "metadata": {
    "collapsed": false
   },
   "outputs": [],
   "source": [
    "# ihop = fetch_businesses('IHOP')"
   ]
  },
  {
   "cell_type": "code",
   "execution_count": 10,
   "metadata": {
    "collapsed": false
   },
   "outputs": [],
   "source": [
    "# map_coordinates(frame(ihop))"
   ]
  },
  {
   "cell_type": "code",
   "execution_count": 11,
   "metadata": {
    "collapsed": true
   },
   "outputs": [],
   "source": [
    "high_variance_gentrifying_chains = [\n",
    "    ('Chipotle', 67, 51),\n",
    "    ('Petland Discounts', 63, 11),\n",
    "    ('New York Sports Clubs', 51, 35),\n",
    "    ('Pret A Manger', 42, 42),\n",
    "    ('Le Pain Quotidien', 39, 37),\n",
    "    ('The Vitamin Shoppe', 38, 20),  # Check the name\n",
    "    ('Au Bon Pain', 33, 19),\n",
    "    ('Hale And Hearty', 31, 29),\n",
    "    ('Red Mango', 29, 16),\n",
    "    ('Equinox', 26, 25),\n",
    "    ('Sephora', 24, 16),\n",
    "    ('Crunch', 23, 14),\n",
    "    ('Papyrus', 22, 22),\n",
    "    ('Lids', 20, 13),\n",
    "    ('Sunglass Hut', 19, 16),\n",
    "    ('LensCrafters', 19, 16),\n",
    "    ('Just Salad', 19, 18),\n",
    "    ('Panera Bread', 18, 7),\n",
    "    ('Potbelly Sandwich Shop', 17, 16),\n",
    "    ('Soul Cycle', 17, 15),\n",
    "    ('H and M', 16, 12),\n",
    "    ('American Apparel', 16, 12),\n",
    "    ('J Crew', 15, 14),\n",
    "    ('Banana Republic', 15, 10),\n",
    "    ('American Eagle Outfitters', 13, 5),\n",
    "    ('16 Handles', 13, 8),\n",
    "    ('Ralph Lauren', 11, 10),\n",
    "    ('Pinkberry', 11, 10),\n",
    "    ('Lululemon Athletica', 11, 10),\n",
    "    ('Tasti D-Lite', 10, 9),\n",
    "    ('Crumbs Bake Shop', 10, 10),\n",
    "    ('Barnes And Noble', 9, 5),\n",
    "    ('Forever 21', 9, 4),\n",
    "    ('Whole Foods', 9, 8),\n",
    "    ('Apple Store', 8, 6),\n",
    "    ('Brooks Brothers', 8, 7)\n",
    "]\n",
    "# high_variance_non_gentrifying_chains = [\n",
    "#     ('Family Dollar', 79, 1), \n",
    "#     ('Dollar Tree', 73, 6),\n",
    "# ]"
   ]
  },
  {
   "cell_type": "code",
   "execution_count": 12,
   "metadata": {
    "collapsed": false
   },
   "outputs": [],
   "source": [
    "df_chains = pd.DataFrame(high_variance_gentrifying_chains, columns=['Chain Name', 'Locations', 'Locations in Manhattan'])"
   ]
  },
  {
   "cell_type": "code",
   "execution_count": 13,
   "metadata": {
    "collapsed": false
   },
   "outputs": [
    {
     "data": {
      "text/plain": [
       "Chain Name                ChipotlePetland DiscountsNew York Sports Clubs...\n",
       "Locations                                                               801\n",
       "Locations in Manhattan                                                  578\n",
       "dtype: object"
      ]
     },
     "execution_count": 13,
     "metadata": {},
     "output_type": "execute_result"
    }
   ],
   "source": [
    "df_chains.sum()"
   ]
  },
  {
   "cell_type": "code",
   "execution_count": 14,
   "metadata": {
    "collapsed": false
   },
   "outputs": [],
   "source": [
    "i = 0\n",
    "locations = []"
   ]
  },
  {
   "cell_type": "code",
   "execution_count": 15,
   "metadata": {
    "collapsed": false
   },
   "outputs": [
    {
     "name": "stdout",
     "output_type": "stream",
     "text": [
      "Ended `fetch_businesses()` on: http://www.yelp.com/biz/chipotle-new-york-57\n",
      "0\n",
      "Ended `fetch_businesses()` on: http://www.yelp.com/biz/petland-discounts-new-york-21\n",
      "1\n",
      "Ended `fetch_businesses()` on: http://www.yelp.com/biz/new-york-sports-clubs-new-york-87\n",
      "2\n",
      "Ended `fetch_businesses()` on: http://www.yelp.com/biz/pret-a-manger-new-york-77\n",
      "3\n",
      "Ended `fetch_businesses()` on: http://www.yelp.com/biz/le-pain-quotidien-new-york-149\n",
      "4\n",
      "Ended `fetch_businesses()` on: http://www.yelp.com/biz/the-vitamin-shoppe-new-york-32\n",
      "5\n",
      "Ended `fetch_businesses()` on: http://www.yelp.com/biz/au-bon-pain-new-york-51\n",
      "6\n",
      "Ended `fetch_businesses()` on: http://www.yelp.com/biz/hale-and-hearty-new-york-22\n",
      "7\n",
      "Ended `fetch_businesses()` on: http://www.yelp.com/biz/red-mango-new-york-34\n",
      "8\n",
      "Ended `fetch_businesses()` on: http://www.yelp.com/biz/equinox-new-york-50\n",
      "9\n",
      "Ended `fetch_businesses()` on: http://www.yelp.com/biz/sephora-new-york-31\n",
      "10\n",
      "Ended `fetch_businesses()` on: http://www.yelp.com/biz/crunch-new-york-55\n",
      "11\n",
      "Ended `fetch_businesses()` on: http://www.yelp.com/biz/papyrus-new-york-25\n",
      "12\n",
      "Ended `fetch_businesses()` on: http://www.yelp.com/biz/lids-new-york-11\n",
      "13\n",
      "Ended `fetch_businesses()` on: http://www.yelp.com/biz/sunglass-hut-new-york-11\n",
      "14\n",
      "Ended `fetch_businesses()` on: http://www.yelp.com/biz/lenscrafters-new-york-42\n",
      "15\n",
      "Ended `fetch_businesses()` on: http://www.yelp.com/biz/just-salad-new-york-42\n",
      "16\n",
      "Ended `fetch_businesses()` on: http://www.yelp.com/biz/panera-bread-new-york-17\n",
      "17\n",
      "Ended `fetch_businesses()` on: http://www.yelp.com/biz/potbelly-sandwich-shop-new-york-18\n",
      "18\n",
      "Ended `fetch_businesses()` on: http://www.yelp.com/biz/soul-cycle-new-york-6\n",
      "19\n",
      "Ended `fetch_businesses()` on: http://www.yelp.com/biz/h-and-m-new-york-28\n",
      "20\n",
      "Ended `fetch_businesses()` on: http://www.yelp.com/biz/american-apparel-new-york-22\n",
      "21\n",
      "Ended `fetch_businesses()` on: http://www.yelp.com/biz/j-crew-new-york-23\n",
      "22\n",
      "Ended `fetch_businesses()` on: http://www.yelp.com/biz/banana-republic-new-york-26\n",
      "23\n",
      "Ended `fetch_businesses()` on: http://www.yelp.com/biz/american-eagle-outfitters-new-york-11\n",
      "24\n",
      "Ended `fetch_businesses()` on: http://www.yelp.com/biz/16-handles-new-york-20\n",
      "25\n",
      "Ended `fetch_businesses()` on: http://www.yelp.com/biz/ralph-lauren-new-york-12\n",
      "26\n",
      "Ended `fetch_businesses()` on: http://www.yelp.com/biz/pinkberry-new-york-27\n",
      "27\n",
      "Ended `fetch_businesses()` on: http://www.yelp.com/biz/lululemon-athletica-new-york-16\n",
      "28\n",
      "Ended `fetch_businesses()` on: http://www.yelp.com/biz/tasti-d-lite-new-york-57\n",
      "29\n",
      "Ended `fetch_businesses()` on: http://www.yelp.com/biz/crumbs-bake-shop-new-york-22\n",
      "30\n",
      "Ended `fetch_businesses()` on: http://www.yelp.com/biz/barnes-and-noble-new-york-16\n",
      "31\n",
      "Ended `fetch_businesses()` on: http://www.yelp.com/biz/forever-21-new-york-11\n",
      "32\n",
      "Ended `fetch_businesses()` on: http://www.yelp.com/biz/whole-foods-new-york-9\n",
      "33\n",
      "Ended `fetch_businesses()` on: http://www.yelp.com/biz/apple-store-new-york-13\n",
      "34\n",
      "Ended `fetch_businesses()` on: http://www.yelp.com/biz/brooks-brothers-new-york-11\n",
      "35\n"
     ]
    }
   ],
   "source": [
    "while i < len(df_chains):\n",
    "    chain_name = df_chains.iloc[i]['Chain Name']\n",
    "    locations.append(fetch_businesses(chain_name))\n",
    "    print(i)\n",
    "    i += 1"
   ]
  },
  {
   "cell_type": "code",
   "execution_count": 16,
   "metadata": {
    "collapsed": false
   },
   "outputs": [],
   "source": [
    "import matplotlib.pyplot as plt\n",
    "%matplotlib inline"
   ]
  },
  {
   "cell_type": "code",
   "execution_count": 17,
   "metadata": {
    "collapsed": true
   },
   "outputs": [],
   "source": [
    "chain_names = df_chains['Chain Name'].values"
   ]
  },
  {
   "cell_type": "code",
   "execution_count": 18,
   "metadata": {
    "collapsed": false
   },
   "outputs": [],
   "source": [
    "df_locations = pd.concat([frame(location_set).assign(chain=name) for location_set, name in zip(locations, chain_names)])"
   ]
  },
  {
   "cell_type": "code",
   "execution_count": 19,
   "metadata": {
    "collapsed": false
   },
   "outputs": [
    {
     "data": {
      "text/html": [
       "<div>\n",
       "<table border=\"1\" class=\"dataframe\">\n",
       "  <thead>\n",
       "    <tr style=\"text-align: right;\">\n",
       "      <th></th>\n",
       "      <th>latitude</th>\n",
       "      <th>longitude</th>\n",
       "      <th>chain</th>\n",
       "    </tr>\n",
       "  </thead>\n",
       "  <tbody>\n",
       "    <tr>\n",
       "      <th>4</th>\n",
       "      <td>40.749523</td>\n",
       "      <td>-73.988144</td>\n",
       "      <td>Lids</td>\n",
       "    </tr>\n",
       "    <tr>\n",
       "      <th>34</th>\n",
       "      <td>40.787973</td>\n",
       "      <td>-73.953397</td>\n",
       "      <td>Le Pain Quotidien</td>\n",
       "    </tr>\n",
       "    <tr>\n",
       "      <th>24</th>\n",
       "      <td>40.790828</td>\n",
       "      <td>-73.974209</td>\n",
       "      <td>LensCrafters</td>\n",
       "    </tr>\n",
       "    <tr>\n",
       "      <th>79</th>\n",
       "      <td>40.765318</td>\n",
       "      <td>-73.957394</td>\n",
       "      <td>Le Pain Quotidien</td>\n",
       "    </tr>\n",
       "    <tr>\n",
       "      <th>14</th>\n",
       "      <td>40.743776</td>\n",
       "      <td>-74.006829</td>\n",
       "      <td>Equinox</td>\n",
       "    </tr>\n",
       "  </tbody>\n",
       "</table>\n",
       "</div>"
      ],
      "text/plain": [
       "     latitude  longitude              chain\n",
       "4   40.749523 -73.988144               Lids\n",
       "34  40.787973 -73.953397  Le Pain Quotidien\n",
       "24  40.790828 -73.974209       LensCrafters\n",
       "79  40.765318 -73.957394  Le Pain Quotidien\n",
       "14  40.743776 -74.006829            Equinox"
      ]
     },
     "execution_count": 19,
     "metadata": {},
     "output_type": "execute_result"
    }
   ],
   "source": [
    "df_locations.sample(5)"
   ]
  },
  {
   "cell_type": "code",
   "execution_count": 20,
   "metadata": {
    "collapsed": true
   },
   "outputs": [],
   "source": [
    "import shapely"
   ]
  },
  {
   "cell_type": "code",
   "execution_count": 21,
   "metadata": {
    "collapsed": false
   },
   "outputs": [
    {
     "data": {
      "text/plain": [
       "(40.6829, 40.882)"
      ]
     },
     "execution_count": 21,
     "metadata": {},
     "output_type": "execute_result"
    },
    {
     "data": {
      "image/png": "[encoded data removed]",
      "text/plain": [
       "<matplotlib.figure.Figure at 0x93c1dd8>"
      ]
     },
     "metadata": {},
     "output_type": "display_data"
    }
   ],
   "source": [
    "plt.scatter(df_locations['latitude'], df_locations['longitude'])\n",
    "ax = plt.gca()\n",
    "ax.set_ylim([-74.0479, -73.9067])\n",
    "ax.set_xlim([40.6829, 40.8820])"
   ]
  },
  {
   "cell_type": "code",
   "execution_count": 22,
   "metadata": {
    "collapsed": false
   },
   "outputs": [],
   "source": [
    "import geopandas as gpd\n",
    "import requests\n",
    "import geojson                "
   ]
  },
  {
   "cell_type": "code",
   "execution_count": 23,
   "metadata": {
    "collapsed": false
   },
   "outputs": [],
   "source": [
    "with open(\"../data/boroughs.geojson\", \"w\") as f:\n",
    "    f.write(requests.get(\"https://raw.githubusercontent.com/dwillis/nyc-maps/master/boroughs.geojson\").text)"
   ]
  },
  {
   "cell_type": "code",
   "execution_count": 24,
   "metadata": {
    "collapsed": false
   },
   "outputs": [],
   "source": [
    "boroughs = gpd.read_file(\"../data/boroughs.geojson\")"
   ]
  },
  {
   "cell_type": "code",
   "execution_count": 25,
   "metadata": {
    "collapsed": false
   },
   "outputs": [],
   "source": [
    "manhattan_geom = boroughs.query('BoroName == \"Manhattan\"').geometry.iloc[0]"
   ]
  },
  {
   "cell_type": "code",
   "execution_count": 26,
   "metadata": {
    "collapsed": false
   },
   "outputs": [],
   "source": [
    "df_locations_filtered = df_locations[\n",
    "    df_locations.apply(\n",
    "        lambda loc: manhattan_geom.contains(shapely.geometry.Point(loc['longitude'], loc['latitude'])), axis=1\n",
    "    )\n",
    "]"
   ]
  },
  {
   "cell_type": "code",
   "execution_count": 27,
   "metadata": {
    "collapsed": false
   },
   "outputs": [
    {
     "data": {
      "text/plain": [
       "<matplotlib.collections.PathCollection at 0xae58518>"
      ]
     },
     "execution_count": 27,
     "metadata": {},
     "output_type": "execute_result"
    },
    {
     "data": {
      "image/png": "[encoded data removed]",
      "text/plain": [
       "<matplotlib.figure.Figure at 0xad64748>"
      ]
     },
     "metadata": {},
     "output_type": "display_data"
    }
   ],
   "source": [
    "plt.scatter(df_locations_filtered['latitude'], df_locations_filtered['longitude'])"
   ]
  },
  {
   "cell_type": "code",
   "execution_count": 28,
   "metadata": {
    "collapsed": true
   },
   "outputs": [],
   "source": [
    "with open(\"../data/ntas.geojson\", \"w\") as f:\n",
    "    f.write(requests.get(\"http://services5.arcgis.com/GfwWNkhOj9bNBqoJ/arcgis/rest/services/nynta/FeatureServer/0/query?where=1=1&outFields=*&outSR=4326&f=geojson\").text)"
   ]
  },
  {
   "cell_type": "code",
   "execution_count": 29,
   "metadata": {
    "collapsed": true
   },
   "outputs": [],
   "source": [
    "ntas = gpd.read_file(\"../data/ntas.geojson\")"
   ]
  },
  {
   "cell_type": "code",
   "execution_count": 30,
   "metadata": {
    "collapsed": false
   },
   "outputs": [
    {
     "data": {
      "text/html": [
       "<div>\n",
       "<table border=\"1\" class=\"dataframe\">\n",
       "  <thead>\n",
       "    <tr style=\"text-align: right;\">\n",
       "      <th></th>\n",
       "      <th>BoroCode</th>\n",
       "      <th>BoroName</th>\n",
       "      <th>CountyFIPS</th>\n",
       "      <th>NTACode</th>\n",
       "      <th>NTAName</th>\n",
       "      <th>OBJECTID</th>\n",
       "      <th>geometry</th>\n",
       "    </tr>\n",
       "  </thead>\n",
       "  <tbody>\n",
       "    <tr>\n",
       "      <th>8</th>\n",
       "      <td>1</td>\n",
       "      <td>Manhattan</td>\n",
       "      <td>061</td>\n",
       "      <td>MN06</td>\n",
       "      <td>Manhattanville</td>\n",
       "      <td>9</td>\n",
       "      <td>POLYGON ((-73.94607972264011 40.8212714957943,...</td>\n",
       "    </tr>\n",
       "    <tr>\n",
       "      <th>13</th>\n",
       "      <td>1</td>\n",
       "      <td>Manhattan</td>\n",
       "      <td>061</td>\n",
       "      <td>MN15</td>\n",
       "      <td>Clinton</td>\n",
       "      <td>14</td>\n",
       "      <td>POLYGON ((-73.99383252963101 40.7729400564539,...</td>\n",
       "    </tr>\n",
       "    <tr>\n",
       "      <th>17</th>\n",
       "      <td>1</td>\n",
       "      <td>Manhattan</td>\n",
       "      <td>061</td>\n",
       "      <td>MN11</td>\n",
       "      <td>Central Harlem South</td>\n",
       "      <td>18</td>\n",
       "      <td>POLYGON ((-73.9417728346951 40.807097276959, -...</td>\n",
       "    </tr>\n",
       "    <tr>\n",
       "      <th>20</th>\n",
       "      <td>1</td>\n",
       "      <td>Manhattan</td>\n",
       "      <td>061</td>\n",
       "      <td>MN17</td>\n",
       "      <td>Midtown-Midtown South</td>\n",
       "      <td>21</td>\n",
       "      <td>POLYGON ((-73.9730163134895 40.7642871470859, ...</td>\n",
       "    </tr>\n",
       "    <tr>\n",
       "      <th>21</th>\n",
       "      <td>1</td>\n",
       "      <td>Manhattan</td>\n",
       "      <td>061</td>\n",
       "      <td>MN19</td>\n",
       "      <td>Turtle Bay-East Midtown</td>\n",
       "      <td>22</td>\n",
       "      <td>(POLYGON ((-73.9616307122155 40.7551606505124,...</td>\n",
       "    </tr>\n",
       "    <tr>\n",
       "      <th>40</th>\n",
       "      <td>1</td>\n",
       "      <td>Manhattan</td>\n",
       "      <td>061</td>\n",
       "      <td>MN25</td>\n",
       "      <td>Battery Park City-Lower Manhattan</td>\n",
       "      <td>41</td>\n",
       "      <td>(POLYGON ((-74.0007843991348 40.69429476862, -...</td>\n",
       "    </tr>\n",
       "    <tr>\n",
       "      <th>48</th>\n",
       "      <td>1</td>\n",
       "      <td>Manhattan</td>\n",
       "      <td>061</td>\n",
       "      <td>MN01</td>\n",
       "      <td>Marble Hill-Inwood</td>\n",
       "      <td>49</td>\n",
       "      <td>(POLYGON ((-73.92152037076541 40.8566094581227...</td>\n",
       "    </tr>\n",
       "    <tr>\n",
       "      <th>72</th>\n",
       "      <td>1</td>\n",
       "      <td>Manhattan</td>\n",
       "      <td>061</td>\n",
       "      <td>MN32</td>\n",
       "      <td>Yorkville</td>\n",
       "      <td>73</td>\n",
       "      <td>(POLYGON ((-73.9380478369022 40.7808378163815,...</td>\n",
       "    </tr>\n",
       "    <tr>\n",
       "      <th>76</th>\n",
       "      <td>1</td>\n",
       "      <td>Manhattan</td>\n",
       "      <td>061</td>\n",
       "      <td>MN40</td>\n",
       "      <td>Upper East Side-Carnegie Hill</td>\n",
       "      <td>77</td>\n",
       "      <td>POLYGON ((-73.9493331403588 40.7852013986192, ...</td>\n",
       "    </tr>\n",
       "    <tr>\n",
       "      <th>77</th>\n",
       "      <td>1</td>\n",
       "      <td>Manhattan</td>\n",
       "      <td>061</td>\n",
       "      <td>MN33</td>\n",
       "      <td>East Harlem South</td>\n",
       "      <td>78</td>\n",
       "      <td>POLYGON ((-73.9350544306231 40.7916954772443, ...</td>\n",
       "    </tr>\n",
       "    <tr>\n",
       "      <th>82</th>\n",
       "      <td>1</td>\n",
       "      <td>Manhattan</td>\n",
       "      <td>061</td>\n",
       "      <td>MN20</td>\n",
       "      <td>Murray Hill-Kips Bay</td>\n",
       "      <td>83</td>\n",
       "      <td>(POLYGON ((-73.97219785583511 40.7404108417447...</td>\n",
       "    </tr>\n",
       "    <tr>\n",
       "      <th>86</th>\n",
       "      <td>1</td>\n",
       "      <td>Manhattan</td>\n",
       "      <td>061</td>\n",
       "      <td>MN21</td>\n",
       "      <td>Gramercy</td>\n",
       "      <td>87</td>\n",
       "      <td>POLYGON ((-73.9784998975546 40.7367992185915, ...</td>\n",
       "    </tr>\n",
       "    <tr>\n",
       "      <th>94</th>\n",
       "      <td>1</td>\n",
       "      <td>Manhattan</td>\n",
       "      <td>061</td>\n",
       "      <td>MN09</td>\n",
       "      <td>Morningside Heights</td>\n",
       "      <td>95</td>\n",
       "      <td>POLYGON ((-73.9521026887233 40.8114511311024, ...</td>\n",
       "    </tr>\n",
       "    <tr>\n",
       "      <th>95</th>\n",
       "      <td>1</td>\n",
       "      <td>Manhattan</td>\n",
       "      <td>061</td>\n",
       "      <td>MN35</td>\n",
       "      <td>Washington Heights North</td>\n",
       "      <td>96</td>\n",
       "      <td>POLYGON ((-73.9287278651267 40.866749717448, -...</td>\n",
       "    </tr>\n",
       "    <tr>\n",
       "      <th>99</th>\n",
       "      <td>1</td>\n",
       "      <td>Manhattan</td>\n",
       "      <td>061</td>\n",
       "      <td>MN12</td>\n",
       "      <td>Upper West Side</td>\n",
       "      <td>100</td>\n",
       "      <td>POLYGON ((-73.96003162332821 40.7980463825984,...</td>\n",
       "    </tr>\n",
       "    <tr>\n",
       "      <th>100</th>\n",
       "      <td>1</td>\n",
       "      <td>Manhattan</td>\n",
       "      <td>061</td>\n",
       "      <td>MN14</td>\n",
       "      <td>Lincoln Square</td>\n",
       "      <td>101</td>\n",
       "      <td>POLYGON ((-73.9749988827128 40.7775408158842, ...</td>\n",
       "    </tr>\n",
       "    <tr>\n",
       "      <th>104</th>\n",
       "      <td>1</td>\n",
       "      <td>Manhattan</td>\n",
       "      <td>061</td>\n",
       "      <td>MN13</td>\n",
       "      <td>Hudson Yards-Chelsea-Flatiron-Union Square</td>\n",
       "      <td>105</td>\n",
       "      <td>POLYGON ((-74.00153454077299 40.7626528649497,...</td>\n",
       "    </tr>\n",
       "    <tr>\n",
       "      <th>105</th>\n",
       "      <td>1</td>\n",
       "      <td>Manhattan</td>\n",
       "      <td>061</td>\n",
       "      <td>MN23</td>\n",
       "      <td>West Village</td>\n",
       "      <td>106</td>\n",
       "      <td>POLYGON ((-73.9899044043666 40.7344430513414, ...</td>\n",
       "    </tr>\n",
       "    <tr>\n",
       "      <th>121</th>\n",
       "      <td>1</td>\n",
       "      <td>Manhattan</td>\n",
       "      <td>061</td>\n",
       "      <td>MN24</td>\n",
       "      <td>SoHo-TriBeCa-Civic Center-Little Italy</td>\n",
       "      <td>122</td>\n",
       "      <td>POLYGON ((-73.992604666891 40.7241447087758, -...</td>\n",
       "    </tr>\n",
       "    <tr>\n",
       "      <th>122</th>\n",
       "      <td>1</td>\n",
       "      <td>Manhattan</td>\n",
       "      <td>061</td>\n",
       "      <td>MN27</td>\n",
       "      <td>Chinatown</td>\n",
       "      <td>123</td>\n",
       "      <td>POLYGON ((-73.98382531491571 40.7214811309453,...</td>\n",
       "    </tr>\n",
       "    <tr>\n",
       "      <th>123</th>\n",
       "      <td>1</td>\n",
       "      <td>Manhattan</td>\n",
       "      <td>061</td>\n",
       "      <td>MN28</td>\n",
       "      <td>Lower East Side</td>\n",
       "      <td>124</td>\n",
       "      <td>(POLYGON ((-73.982374846225 40.7055516062451, ...</td>\n",
       "    </tr>\n",
       "    <tr>\n",
       "      <th>124</th>\n",
       "      <td>1</td>\n",
       "      <td>Manhattan</td>\n",
       "      <td>061</td>\n",
       "      <td>MN22</td>\n",
       "      <td>East Village</td>\n",
       "      <td>125</td>\n",
       "      <td>POLYGON ((-73.9825577344437 40.7313583954125, ...</td>\n",
       "    </tr>\n",
       "    <tr>\n",
       "      <th>125</th>\n",
       "      <td>1</td>\n",
       "      <td>Manhattan</td>\n",
       "      <td>061</td>\n",
       "      <td>MN50</td>\n",
       "      <td>Stuyvesant Town-Cooper Village</td>\n",
       "      <td>126</td>\n",
       "      <td>(POLYGON ((-73.97511199360829 40.7353985170958...</td>\n",
       "    </tr>\n",
       "    <tr>\n",
       "      <th>147</th>\n",
       "      <td>1</td>\n",
       "      <td>Manhattan</td>\n",
       "      <td>061</td>\n",
       "      <td>MN34</td>\n",
       "      <td>East Harlem North</td>\n",
       "      <td>148</td>\n",
       "      <td>(POLYGON ((-73.93380733049401 40.8165207724813...</td>\n",
       "    </tr>\n",
       "    <tr>\n",
       "      <th>148</th>\n",
       "      <td>1</td>\n",
       "      <td>Manhattan</td>\n",
       "      <td>061</td>\n",
       "      <td>MN31</td>\n",
       "      <td>Lenox Hill-Roosevelt Island</td>\n",
       "      <td>149</td>\n",
       "      <td>(POLYGON ((-73.9418017586504 40.7690551962931,...</td>\n",
       "    </tr>\n",
       "    <tr>\n",
       "      <th>183</th>\n",
       "      <td>1</td>\n",
       "      <td>Manhattan</td>\n",
       "      <td>061</td>\n",
       "      <td>MN04</td>\n",
       "      <td>Hamilton Heights</td>\n",
       "      <td>184</td>\n",
       "      <td>POLYGON ((-73.940347867095 40.8304661245802, -...</td>\n",
       "    </tr>\n",
       "    <tr>\n",
       "      <th>184</th>\n",
       "      <td>1</td>\n",
       "      <td>Manhattan</td>\n",
       "      <td>061</td>\n",
       "      <td>MN36</td>\n",
       "      <td>Washington Heights South</td>\n",
       "      <td>185</td>\n",
       "      <td>POLYGON ((-73.9313949859399 40.8474365167705, ...</td>\n",
       "    </tr>\n",
       "    <tr>\n",
       "      <th>193</th>\n",
       "      <td>1</td>\n",
       "      <td>Manhattan</td>\n",
       "      <td>061</td>\n",
       "      <td>MN03</td>\n",
       "      <td>Central Harlem North-Polo Grounds</td>\n",
       "      <td>194</td>\n",
       "      <td>POLYGON ((-73.9338314381616 40.819499375403, -...</td>\n",
       "    </tr>\n",
       "    <tr>\n",
       "      <th>194</th>\n",
       "      <td>1</td>\n",
       "      <td>Manhattan</td>\n",
       "      <td>061</td>\n",
       "      <td>MN99</td>\n",
       "      <td>park-cemetery-etc-Manhattan</td>\n",
       "      <td>195</td>\n",
       "      <td>(POLYGON ((-74.010929861053 40.684499723222, -...</td>\n",
       "    </tr>\n",
       "  </tbody>\n",
       "</table>\n",
       "</div>"
      ],
      "text/plain": [
       "     BoroCode   BoroName CountyFIPS NTACode  \\\n",
       "8           1  Manhattan        061    MN06   \n",
       "13          1  Manhattan        061    MN15   \n",
       "17          1  Manhattan        061    MN11   \n",
       "20          1  Manhattan        061    MN17   \n",
       "21          1  Manhattan        061    MN19   \n",
       "40          1  Manhattan        061    MN25   \n",
       "48          1  Manhattan        061    MN01   \n",
       "72          1  Manhattan        061    MN32   \n",
       "76          1  Manhattan        061    MN40   \n",
       "77          1  Manhattan        061    MN33   \n",
       "82          1  Manhattan        061    MN20   \n",
       "86          1  Manhattan        061    MN21   \n",
       "94          1  Manhattan        061    MN09   \n",
       "95          1  Manhattan        061    MN35   \n",
       "99          1  Manhattan        061    MN12   \n",
       "100         1  Manhattan        061    MN14   \n",
       "104         1  Manhattan        061    MN13   \n",
       "105         1  Manhattan        061    MN23   \n",
       "121         1  Manhattan        061    MN24   \n",
       "122         1  Manhattan        061    MN27   \n",
       "123         1  Manhattan        061    MN28   \n",
       "124         1  Manhattan        061    MN22   \n",
       "125         1  Manhattan        061    MN50   \n",
       "147         1  Manhattan        061    MN34   \n",
       "148         1  Manhattan        061    MN31   \n",
       "183         1  Manhattan        061    MN04   \n",
       "184         1  Manhattan        061    MN36   \n",
       "193         1  Manhattan        061    MN03   \n",
       "194         1  Manhattan        061    MN99   \n",
       "\n",
       "                                        NTAName  OBJECTID  \\\n",
       "8                                Manhattanville         9   \n",
       "13                                      Clinton        14   \n",
       "17                         Central Harlem South        18   \n",
       "20                        Midtown-Midtown South        21   \n",
       "21                      Turtle Bay-East Midtown        22   \n",
       "40            Battery Park City-Lower Manhattan        41   \n",
       "48                           Marble Hill-Inwood        49   \n",
       "72                                    Yorkville        73   \n",
       "76                Upper East Side-Carnegie Hill        77   \n",
       "77                            East Harlem South        78   \n",
       "82                         Murray Hill-Kips Bay        83   \n",
       "86                                     Gramercy        87   \n",
       "94                          Morningside Heights        95   \n",
       "95                     Washington Heights North        96   \n",
       "99                              Upper West Side       100   \n",
       "100                              Lincoln Square       101   \n",
       "104  Hudson Yards-Chelsea-Flatiron-Union Square       105   \n",
       "105                                West Village       106   \n",
       "121      SoHo-TriBeCa-Civic Center-Little Italy       122   \n",
       "122                                   Chinatown       123   \n",
       "123                             Lower East Side       124   \n",
       "124                                East Village       125   \n",
       "125              Stuyvesant Town-Cooper Village       126   \n",
       "147                           East Harlem North       148   \n",
       "148                 Lenox Hill-Roosevelt Island       149   \n",
       "183                            Hamilton Heights       184   \n",
       "184                    Washington Heights South       185   \n",
       "193           Central Harlem North-Polo Grounds       194   \n",
       "194                 park-cemetery-etc-Manhattan       195   \n",
       "\n",
       "                                              geometry  \n",
       "8    POLYGON ((-73.94607972264011 40.8212714957943,...  \n",
       "13   POLYGON ((-73.99383252963101 40.7729400564539,...  \n",
       "17   POLYGON ((-73.9417728346951 40.807097276959, -...  \n",
       "20   POLYGON ((-73.9730163134895 40.7642871470859, ...  \n",
       "21   (POLYGON ((-73.9616307122155 40.7551606505124,...  \n",
       "40   (POLYGON ((-74.0007843991348 40.69429476862, -...  \n",
       "48   (POLYGON ((-73.92152037076541 40.8566094581227...  \n",
       "72   (POLYGON ((-73.9380478369022 40.7808378163815,...  \n",
       "76   POLYGON ((-73.9493331403588 40.7852013986192, ...  \n",
       "77   POLYGON ((-73.9350544306231 40.7916954772443, ...  \n",
       "82   (POLYGON ((-73.97219785583511 40.7404108417447...  \n",
       "86   POLYGON ((-73.9784998975546 40.7367992185915, ...  \n",
       "94   POLYGON ((-73.9521026887233 40.8114511311024, ...  \n",
       "95   POLYGON ((-73.9287278651267 40.866749717448, -...  \n",
       "99   POLYGON ((-73.96003162332821 40.7980463825984,...  \n",
       "100  POLYGON ((-73.9749988827128 40.7775408158842, ...  \n",
       "104  POLYGON ((-74.00153454077299 40.7626528649497,...  \n",
       "105  POLYGON ((-73.9899044043666 40.7344430513414, ...  \n",
       "121  POLYGON ((-73.992604666891 40.7241447087758, -...  \n",
       "122  POLYGON ((-73.98382531491571 40.7214811309453,...  \n",
       "123  (POLYGON ((-73.982374846225 40.7055516062451, ...  \n",
       "124  POLYGON ((-73.9825577344437 40.7313583954125, ...  \n",
       "125  (POLYGON ((-73.97511199360829 40.7353985170958...  \n",
       "147  (POLYGON ((-73.93380733049401 40.8165207724813...  \n",
       "148  (POLYGON ((-73.9418017586504 40.7690551962931,...  \n",
       "183  POLYGON ((-73.940347867095 40.8304661245802, -...  \n",
       "184  POLYGON ((-73.9313949859399 40.8474365167705, ...  \n",
       "193  POLYGON ((-73.9338314381616 40.819499375403, -...  \n",
       "194  (POLYGON ((-74.010929861053 40.684499723222, -...  "
      ]
     },
     "execution_count": 30,
     "metadata": {},
     "output_type": "execute_result"
    }
   ],
   "source": [
    "ntas.query('BoroName == \"Manhattan\"')"
   ]
  },
  {
   "cell_type": "code",
   "execution_count": 31,
   "metadata": {
    "collapsed": false
   },
   "outputs": [
    {
     "data": {
      "text/plain": [
       "<matplotlib.axes._subplots.AxesSubplot at 0xad5cba8>"
      ]
     },
     "execution_count": 31,
     "metadata": {},
     "output_type": "execute_result"
    },
    {
     "data": {
      "image/png": "[encoded data removed]",
      "text/plain": [
       "<matplotlib.figure.Figure at 0xae88400>"
      ]
     },
     "metadata": {},
     "output_type": "display_data"
    }
   ],
   "source": [
    "ntas.query('BoroName == \"Manhattan\"').plot()"
   ]
  },
  {
   "cell_type": "code",
   "execution_count": 32,
   "metadata": {
    "collapsed": true
   },
   "outputs": [],
   "source": [
    "with open(\"../data/tracts.geojson\", \"w\") as f:\n",
    "    f.write(requests.get(\"http://services5.arcgis.com/GfwWNkhOj9bNBqoJ/arcgis/rest/services/nyct2010/FeatureServer/0/query?where=1=1&outFields=*&outSR=4326&f=geojson\").text)"
   ]
  },
  {
   "cell_type": "code",
   "execution_count": 33,
   "metadata": {
    "collapsed": true
   },
   "outputs": [],
   "source": [
    "tracts = gpd.read_file(\"../data/tracts.geojson\")"
   ]
  },
  {
   "cell_type": "code",
   "execution_count": 34,
   "metadata": {
    "collapsed": false,
    "scrolled": false
   },
   "outputs": [
    {
     "data": {
      "text/plain": [
       "<matplotlib.axes._subplots.AxesSubplot at 0x8e994e0>"
      ]
     },
     "execution_count": 34,
     "metadata": {},
     "output_type": "execute_result"
    },
    {
     "data": {
      "image/png": "[encoded data removed]",
      "text/plain": [
       "<matplotlib.figure.Figure at 0x8e8b6a0>"
      ]
     },
     "metadata": {},
     "output_type": "display_data"
    }
   ],
   "source": [
    "tracts.query('BoroName == \"Manhattan\"').plot()"
   ]
  },
  {
   "cell_type": "code",
   "execution_count": 35,
   "metadata": {
    "collapsed": false
   },
   "outputs": [
    {
     "data": {
      "text/plain": [
       "1020"
      ]
     },
     "execution_count": 35,
     "metadata": {},
     "output_type": "execute_result"
    }
   ],
   "source": [
    "len(df_locations_filtered)"
   ]
  },
  {
   "cell_type": "code",
   "execution_count": 36,
   "metadata": {
    "collapsed": true
   },
   "outputs": [],
   "source": [
    "from tqdm import tqdm"
   ]
  },
  {
   "cell_type": "code",
   "execution_count": 37,
   "metadata": {
    "collapsed": false
   },
   "outputs": [
    {
     "name": "stderr",
     "output_type": "stream",
     "text": [
      "1020it [02:23,  8.14it/s]\n"
     ]
    }
   ],
   "source": [
    "tract_nums = []\n",
    "for _, location in tqdm(df_locations_filtered.iterrows()):\n",
    "    for n, tract in tracts.iterrows():\n",
    "        if tract.geometry.contains(shapely.geometry.Point(location['longitude'], location['latitude'])):\n",
    "            tract_nums.append(n)\n",
    "            break"
   ]
  },
  {
   "cell_type": "code",
   "execution_count": 38,
   "metadata": {
    "collapsed": false
   },
   "outputs": [],
   "source": [
    "df_locations_filtered = df_locations_filtered.assign(tractnum=tract_nums)"
   ]
  },
  {
   "cell_type": "code",
   "execution_count": 39,
   "metadata": {
    "collapsed": false,
    "scrolled": false
   },
   "outputs": [
    {
     "data": {
      "text/plain": [
       "False"
      ]
     },
     "execution_count": 39,
     "metadata": {},
     "output_type": "execute_result"
    }
   ],
   "source": [
    "df_locations_filtered.tractnum.isnull().any()"
   ]
  },
  {
   "cell_type": "code",
   "execution_count": 40,
   "metadata": {
    "collapsed": false
   },
   "outputs": [
    {
     "data": {
      "text/plain": [
       "count    145.000000\n",
       "mean       7.034483\n",
       "std        5.925948\n",
       "min        1.000000\n",
       "25%        2.000000\n",
       "50%        5.000000\n",
       "75%       10.000000\n",
       "max       28.000000\n",
       "Name: tractnum, dtype: float64"
      ]
     },
     "execution_count": 40,
     "metadata": {},
     "output_type": "execute_result"
    }
   ],
   "source": [
    "df_locations_filtered.tractnum.value_counts().describe()"
   ]
  },
  {
   "cell_type": "code",
   "execution_count": 42,
   "metadata": {
    "collapsed": true
   },
   "outputs": [],
   "source": [
    "tractnum_counts = df_locations_filtered.tractnum.value_counts()\n",
    "tracts['n'] = tractnum_counts"
   ]
  },
  {
   "cell_type": "code",
   "execution_count": 107,
   "metadata": {
    "collapsed": true
   },
   "outputs": [],
   "source": [
    "import mplleaflet"
   ]
  },
  {
   "cell_type": "code",
   "execution_count": 109,
   "metadata": {
    "collapsed": false
   },
   "outputs": [
    {
     "name": "stderr",
     "output_type": "stream",
     "text": [
      "C:\\Users\\Alex\\Anaconda3\\envs\\nyc-gentrification\\lib\\site-packages\\pysal\\esda\\mapclassify.py:259: RuntimeWarning: invalid value encountered in greater\n",
      "  binIds += (x > l) * (x <= r) * k\n",
      "C:\\Users\\Alex\\Anaconda3\\envs\\nyc-gentrification\\lib\\site-packages\\pysal\\esda\\mapclassify.py:259: RuntimeWarning: invalid value encountered in less_equal\n",
      "  binIds += (x > l) * (x <= r) * k\n",
      "C:\\Users\\Alex\\Anaconda3\\envs\\nyc-gentrification\\lib\\site-packages\\numpy\\lib\\function_base.py:3569: RuntimeWarning: Invalid value encountered in median\n",
      "  RuntimeWarning)\n"
     ]
    }
   ],
   "source": [
    "tracts.query('BoroName == \"Manhattan\"').plot(column='n', cmap='Greens', scheme='equal_interval', linewidth=0.5, figsize=(24, 12))\n",
    "plt.gca().axis('off')\n",
    "mplleaflet.show()"
   ]
  },
  {
   "cell_type": "code",
   "execution_count": null,
   "metadata": {
    "collapsed": true
   },
   "outputs": [],
   "source": [
    "mplleaflet.show()"
   ]
  },
  {
   "cell_type": "code",
   "execution_count": 108,
   "metadata": {
    "collapsed": false
   },
   "outputs": [
    {
     "data": {
      "text/plain": [
       "<module 'mplleaflet' from 'C:\\\\Users\\\\Alex\\\\Anaconda3\\\\envs\\\\nyc-gentrification\\\\lib\\\\site-packages\\\\mplleaflet\\\\__init__.py'>"
      ]
     },
     "execution_count": 108,
     "metadata": {},
     "output_type": "execute_result"
    }
   ],
   "source": [
    "mplleaflet.show()"
   ]
  },
  {
   "cell_type": "code",
   "execution_count": 59,
   "metadata": {
    "collapsed": false
   },
   "outputs": [
    {
     "name": "stderr",
     "output_type": "stream",
     "text": [
      "1020it [00:09, 105.53it/s]\n"
     ]
    }
   ],
   "source": [
    "nta_nums = []\n",
    "for _, location in tqdm(df_locations_filtered.iterrows()):\n",
    "    for n, nta in ntas.iterrows():\n",
    "        if nta.geometry.contains(shapely.geometry.Point(location['longitude'], location['latitude'])):\n",
    "            nta_nums.append(n)\n",
    "            break"
   ]
  },
  {
   "cell_type": "code",
   "execution_count": 65,
   "metadata": {
    "collapsed": true
   },
   "outputs": [],
   "source": [
    "df_locations_filtered = df_locations_filtered.assign(ntanum=nta_nums)\n",
    "ntanum_counts = df_locations_filtered.ntanum.value_counts()\n",
    "ntas['n'] = ntanum_counts"
   ]
  },
  {
   "cell_type": "code",
   "execution_count": 75,
   "metadata": {
    "collapsed": false
   },
   "outputs": [
    {
     "data": {
      "text/plain": [
       "29"
      ]
     },
     "execution_count": 75,
     "metadata": {},
     "output_type": "execute_result"
    }
   ],
   "source": [
    "len(ntas.query('BoroName == \"Manhattan\"'))"
   ]
  },
  {
   "cell_type": "code",
   "execution_count": 74,
   "metadata": {
    "collapsed": false
   },
   "outputs": [
    {
     "data": {
      "text/plain": [
       "25"
      ]
     },
     "execution_count": 74,
     "metadata": {},
     "output_type": "execute_result"
    }
   ],
   "source": [
    "len(ntanum_counts)"
   ]
  },
  {
   "cell_type": "code",
   "execution_count": 66,
   "metadata": {
    "collapsed": false
   },
   "outputs": [
    {
     "data": {
      "text/plain": [
       "8        NaN\n",
       "13      25.0\n",
       "17       7.0\n",
       "20     237.0\n",
       "21      78.0\n",
       "40      67.0\n",
       "48       NaN\n",
       "72      26.0\n",
       "76      62.0\n",
       "77      11.0\n",
       "82      39.0\n",
       "86      22.0\n",
       "94      10.0\n",
       "95       1.0\n",
       "99      59.0\n",
       "100     50.0\n",
       "104     89.0\n",
       "105     89.0\n",
       "121     84.0\n",
       "122      4.0\n",
       "123      NaN\n",
       "124     17.0\n",
       "125      3.0\n",
       "147      1.0\n",
       "148     34.0\n",
       "183      NaN\n",
       "184      1.0\n",
       "193      1.0\n",
       "194      3.0\n",
       "Name: n, dtype: float64"
      ]
     },
     "execution_count": 66,
     "metadata": {},
     "output_type": "execute_result"
    }
   ],
   "source": [
    "ntas.query('BoroName == \"Manhattan\"')['n']"
   ]
  },
  {
   "cell_type": "code",
   "execution_count": 70,
   "metadata": {
    "collapsed": false
   },
   "outputs": [
    {
     "data": {
      "text/plain": [
       "count    20.00000\n",
       "mean      1.25000\n",
       "std       0.71635\n",
       "min       1.00000\n",
       "25%       1.00000\n",
       "50%       1.00000\n",
       "75%       1.00000\n",
       "max       4.00000\n",
       "Name: n, dtype: float64"
      ]
     },
     "execution_count": 70,
     "metadata": {},
     "output_type": "execute_result"
    }
   ],
   "source": [
    "ntas.n.value_counts().describe()"
   ]
  },
  {
   "cell_type": "code",
   "execution_count": 84,
   "metadata": {
    "collapsed": false
   },
   "outputs": [
    {
     "data": {
      "text/plain": [
       "<matplotlib.axes._subplots.AxesSubplot at 0x153da160>"
      ]
     },
     "execution_count": 84,
     "metadata": {},
     "output_type": "execute_result"
    },
    {
     "data": {
      "image/png": "[encoded data removed]",
      "text/plain": [
       "<matplotlib.figure.Figure at 0x1c28bef0>"
      ]
     },
     "metadata": {},
     "output_type": "display_data"
    }
   ],
   "source": [
    "ntas.query('BoroName == \"Manhattan\"').dropna().n.sort_values().plot(kind='bar')"
   ]
  },
  {
   "cell_type": "code",
   "execution_count": 100,
   "metadata": {
    "collapsed": false
   },
   "outputs": [
    {
     "data": {
      "text/plain": [
       "(-74.060000000000002,\n",
       " -73.900000000000006,\n",
       " 40.650000000000006,\n",
       " 40.900000000000006)"
      ]
     },
     "execution_count": 100,
     "metadata": {},
     "output_type": "execute_result"
    },
    {
     "data": {
      "image/png": "[encoded data removed]",
      "text/plain": [
       "<matplotlib.figure.Figure at 0x17876e80>"
      ]
     },
     "metadata": {},
     "output_type": "display_data"
    }
   ],
   "source": [
    "ntas.query('BoroName == \"Manhattan\"').dropna().plot(column='n', linewidth=1, edgecolor='white', figsize=(24, 12), cmap='Reds')\n",
    "plt.gca().axis('off')"
   ]
  },
  {
   "cell_type": "code",
   "execution_count": 110,
   "metadata": {
    "collapsed": true
   },
   "outputs": [],
   "source": [
    "ntas.query('BoroName == \"Manhattan\"').dropna().plot(column='n', linewidth=1, edgecolor='white', figsize=(24, 12), cmap='Reds')\n",
    "plt.gca().axis('off')\n",
    "mplleaflet.show()"
   ]
  },
  {
   "cell_type": "code",
   "execution_count": 111,
   "metadata": {
    "collapsed": true
   },
   "outputs": [],
   "source": [
    "df_locations_filtered.to_csv(\"../data/locations.csv\", index=False)"
   ]
  },
  {
   "cell_type": "code",
   "execution_count": 41,
   "metadata": {
    "collapsed": false
   },
   "outputs": [],
   "source": [
    "# multipoints = []\n",
    "# for tractnum in tqdm(tracts.index):\n",
    "#     locs_in_tract = df_locations_filtered[df_locations_filtered.tractnum == tractnum]\n",
    "#     if len(locs_in_tract) > 0:\n",
    "#         multipoints.append(shapely.geometry.MultiPoint(locs_in_tract.apply(lambda d: shapely.geometry.Point(d['longitude'], d['latitude']), axis=1).values))\n",
    "#     elif len(locs_in_tract) == 1:\n",
    "#         multipoints.append(shapely.geometry.Point(locs_in_tract.apply(lambda d: [d['longitude'], d['latitude']], axis=1).iloc[0]))        \n",
    "#     else:\n",
    "#         multipoints.append(shapely.geometry.Point(0, 0))"
   ]
  }
 ],
 "metadata": {
  "anaconda-cloud": {},
  "kernelspec": {
   "display_name": "Python [conda env:nyc-gentrification]",
   "language": "python",
   "name": "conda-env-nyc-gentrification-py"
  },
  "language_info": {
   "codemirror_mode": {
    "name": "ipython",
    "version": 3
   },
   "file_extension": ".py",
   "mimetype": "text/x-python",
   "name": "python",
   "nbconvert_exporter": "python",
   "pygments_lexer": "ipython3",
   "version": "3.5.2"
  }
 },
 "nbformat": 4,
 "nbformat_minor": 2
}
